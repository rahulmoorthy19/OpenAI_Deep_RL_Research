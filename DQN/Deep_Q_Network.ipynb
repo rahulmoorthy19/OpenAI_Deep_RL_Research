{
  "nbformat": 4,
  "nbformat_minor": 0,
  "metadata": {
    "colab": {
      "name": "Deep Q Network.ipynb",
      "provenance": [],
      "collapsed_sections": []
    },
    "kernelspec": {
      "name": "python3",
      "display_name": "Python 3"
    }
  },
  "cells": [
    {
      "cell_type": "code",
      "metadata": {
        "id": "xuBAjdID8EvR",
        "colab_type": "code",
        "colab": {
          "base_uri": "https://localhost:8080/",
          "height": 134
        },
        "outputId": "ae20ab5e-0803-4082-a523-cf0e0187ee99"
      },
      "source": [
        "!pip install gym "
      ],
      "execution_count": 1,
      "outputs": [
        {
          "output_type": "stream",
          "text": [
            "Requirement already satisfied: gym in /usr/local/lib/python3.6/dist-packages (0.17.1)\n",
            "Requirement already satisfied: six in /usr/local/lib/python3.6/dist-packages (from gym) (1.12.0)\n",
            "Requirement already satisfied: pyglet<=1.5.0,>=1.4.0 in /usr/local/lib/python3.6/dist-packages (from gym) (1.5.0)\n",
            "Requirement already satisfied: numpy>=1.10.4 in /usr/local/lib/python3.6/dist-packages (from gym) (1.18.3)\n",
            "Requirement already satisfied: cloudpickle<1.4.0,>=1.2.0 in /usr/local/lib/python3.6/dist-packages (from gym) (1.3.0)\n",
            "Requirement already satisfied: scipy in /usr/local/lib/python3.6/dist-packages (from gym) (1.4.1)\n",
            "Requirement already satisfied: future in /usr/local/lib/python3.6/dist-packages (from pyglet<=1.5.0,>=1.4.0->gym) (0.16.0)\n"
          ],
          "name": "stdout"
        }
      ]
    },
    {
      "cell_type": "code",
      "metadata": {
        "id": "N3PWIxzv8M_Q",
        "colab_type": "code",
        "colab": {
          "base_uri": "https://localhost:8080/",
          "height": 67
        },
        "outputId": "6f63a483-f123-483b-f5a4-b8a2bef0818b"
      },
      "source": [
        "!pip install atari-py"
      ],
      "execution_count": 2,
      "outputs": [
        {
          "output_type": "stream",
          "text": [
            "Requirement already satisfied: atari-py in /usr/local/lib/python3.6/dist-packages (0.2.6)\n",
            "Requirement already satisfied: numpy in /usr/local/lib/python3.6/dist-packages (from atari-py) (1.18.3)\n",
            "Requirement already satisfied: six in /usr/local/lib/python3.6/dist-packages (from atari-py) (1.12.0)\n"
          ],
          "name": "stdout"
        }
      ]
    },
    {
      "cell_type": "code",
      "metadata": {
        "id": "dM-WXJHT8Vgk",
        "colab_type": "code",
        "colab": {
          "base_uri": "https://localhost:8080/",
          "height": 185
        },
        "outputId": "a947446a-8f22-45df-fb58-3d58af20b5bd"
      },
      "source": [
        "!pip install gym[atari]"
      ],
      "execution_count": 3,
      "outputs": [
        {
          "output_type": "stream",
          "text": [
            "Requirement already satisfied: gym[atari] in /usr/local/lib/python3.6/dist-packages (0.17.1)\n",
            "Requirement already satisfied: scipy in /usr/local/lib/python3.6/dist-packages (from gym[atari]) (1.4.1)\n",
            "Requirement already satisfied: numpy>=1.10.4 in /usr/local/lib/python3.6/dist-packages (from gym[atari]) (1.18.3)\n",
            "Requirement already satisfied: six in /usr/local/lib/python3.6/dist-packages (from gym[atari]) (1.12.0)\n",
            "Requirement already satisfied: pyglet<=1.5.0,>=1.4.0 in /usr/local/lib/python3.6/dist-packages (from gym[atari]) (1.5.0)\n",
            "Requirement already satisfied: cloudpickle<1.4.0,>=1.2.0 in /usr/local/lib/python3.6/dist-packages (from gym[atari]) (1.3.0)\n",
            "Requirement already satisfied: atari-py~=0.2.0; extra == \"atari\" in /usr/local/lib/python3.6/dist-packages (from gym[atari]) (0.2.6)\n",
            "Requirement already satisfied: Pillow; extra == \"atari\" in /usr/local/lib/python3.6/dist-packages (from gym[atari]) (7.0.0)\n",
            "Requirement already satisfied: opencv-python; extra == \"atari\" in /usr/local/lib/python3.6/dist-packages (from gym[atari]) (4.1.2.30)\n",
            "Requirement already satisfied: future in /usr/local/lib/python3.6/dist-packages (from pyglet<=1.5.0,>=1.4.0->gym[atari]) (0.16.0)\n"
          ],
          "name": "stdout"
        }
      ]
    },
    {
      "cell_type": "markdown",
      "metadata": {
        "id": "r1SbGSl08dpV",
        "colab_type": "text"
      },
      "source": [
        "# Implementation details"
      ]
    },
    {
      "cell_type": "markdown",
      "metadata": {
        "id": "0aPsv_Uw8gnW",
        "colab_type": "text"
      },
      "source": [
        "There are 5 modules of Deep Q learning-\n",
        "1. CNN for interacting with the environment\n",
        "2. Experience replay so that gradient descent converges rather than diverges. It basically provides a sense of direction to where to move for reducing the loss\n",
        "3. A module to integrate both of the above modules and building a linking peice to complete the algorithm\n",
        "4. testing with the OpenAI gym environment\n",
        "5. Preprocessing of image"
      ]
    },
    {
      "cell_type": "markdown",
      "metadata": {
        "id": "qhN9HfBa8m8W",
        "colab_type": "text"
      },
      "source": [
        "# import statements"
      ]
    },
    {
      "cell_type": "code",
      "metadata": {
        "id": "b-c4ry1e8hw5",
        "colab_type": "code",
        "colab": {}
      },
      "source": [
        "import gym\n",
        "import numpy as np\n",
        "from skimage.transform import resize\n",
        "import tensorflow as tf"
      ],
      "execution_count": 0,
      "outputs": []
    },
    {
      "cell_type": "markdown",
      "metadata": {
        "id": "s60GirGLC2vZ",
        "colab_type": "text"
      },
      "source": [
        "# Initializing Gym environment"
      ]
    },
    {
      "cell_type": "code",
      "metadata": {
        "colab_type": "code",
        "id": "7MM5qEoK_elV",
        "colab": {}
      },
      "source": [
        "env = gym.make(\"Breakout-v4\")\n",
        "env = env.unwrapped\n",
        "env.seed(1)\n",
        "state = env.reset()"
      ],
      "execution_count": 0,
      "outputs": []
    },
    {
      "cell_type": "markdown",
      "metadata": {
        "id": "gsLNN1h3ASUL",
        "colab_type": "text"
      },
      "source": [
        "# Pre processing of image"
      ]
    },
    {
      "cell_type": "code",
      "metadata": {
        "id": "7HzU9oweAEaM",
        "colab_type": "code",
        "colab": {}
      },
      "source": [
        "def frame_preprocessing(image_frame):\n",
        "  image_frame=resize(image_frame, (84,84,3))\n",
        "  grayscale_frame=np.dot(image_frame[...,:3], [0.2989, 0.5870, 0.1140])\n",
        "  return grayscale_frame"
      ],
      "execution_count": 0,
      "outputs": []
    },
    {
      "cell_type": "markdown",
      "metadata": {
        "id": "pl3EuAquEERE",
        "colab_type": "text"
      },
      "source": [
        "# Experience replay"
      ]
    },
    {
      "cell_type": "markdown",
      "metadata": {
        "id": "zSvGn-U1DHrL",
        "colab_type": "text"
      },
      "source": [
        "## Memory class"
      ]
    },
    {
      "cell_type": "code",
      "metadata": {
        "id": "paUaFalaC9iK",
        "colab_type": "code",
        "colab": {}
      },
      "source": [
        "class memory_frame(object):\n",
        "  def __init__(self,state,action,reward):\n",
        "    self.state=state\n",
        "    self.action=action\n",
        "    self.reward=reward"
      ],
      "execution_count": 0,
      "outputs": []
    },
    {
      "cell_type": "code",
      "metadata": {
        "id": "FbWWj0GdEhHc",
        "colab_type": "code",
        "colab": {}
      },
      "source": [
        "experience_memory=list()"
      ],
      "execution_count": 0,
      "outputs": []
    },
    {
      "cell_type": "markdown",
      "metadata": {
        "id": "SdwJLh-0KdEW",
        "colab_type": "text"
      },
      "source": [
        "# Hyper parameters"
      ]
    },
    {
      "cell_type": "code",
      "metadata": {
        "id": "tYms2OHiKiGj",
        "colab_type": "code",
        "colab": {}
      },
      "source": [
        "action_number=env.action_space.n\n",
        "learning_rate=0.01"
      ],
      "execution_count": 0,
      "outputs": []
    },
    {
      "cell_type": "markdown",
      "metadata": {
        "id": "8ThREIxSFHcG",
        "colab_type": "text"
      },
      "source": [
        "# Q Network"
      ]
    },
    {
      "cell_type": "markdown",
      "metadata": {
        "id": "P5by7mO9GNIE",
        "colab_type": "text"
      },
      "source": [
        "The Q network architecture-\n",
        "1. 16 filters with 8 X 8 kernel and 4 strides with relu activation\n",
        "2. 32 filters with 4 X 4 kernel and 2 strides with relu activation\n",
        "3. 256 fully connected layer\n",
        "4. linear layer with number of actions"
      ]
    },
    {
      "cell_type": "code",
      "metadata": {
        "id": "dQGq6ksIE5KD",
        "colab_type": "code",
        "colab": {}
      },
      "source": [
        "tf.compat.v1.disable_eager_execution()\n",
        "input_state=tf.compat.v1.placeholder(tf.float32, shape=[None, 84,84,1],name=\"input_state\")\n",
        "y_j=tf.compat.v1.placeholder(tf.float32, shape=[None,],name=\"y_j\")\n",
        "cnn_layer_1=tf.keras.layers.Conv2D(filters=16,kernel_size=(8,8),strides=(4,4),activation=\"relu\")(input_state)\n",
        "cnn_layer_2=tf.keras.layers.Conv2D(filters=32,kernel_size=(4,4),strides=(2,2),activation=\"relu\")(cnn_layer_1)\n",
        "flatten_layer=tf.keras.layers.Flatten()(cnn_layer_2)\n",
        "fully_connected_layer_1=tf.keras.layers.Dense(256,activation='relu',name=\"fc2\")(flatten_layer)\n",
        "output_layer=tf.keras.layers.Dense(action_number,activation='linear',name=\"fc2\")(fully_connected_layer_1)\n",
        "loss=tf.math.reduce_mean((y_j-output_layer)**2)\n",
        "training=tf.compat.v1.train.AdamOptimizer(learning_rate).minimize(loss)"
      ],
      "execution_count": 0,
      "outputs": []
    }
  ]
}